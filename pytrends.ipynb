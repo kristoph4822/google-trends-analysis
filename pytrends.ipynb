{
 "cells": [
  {
   "cell_type": "markdown",
   "metadata": {},
   "source": [
    "# Korzystanie z Google Trends przy pomocy pytrends"
   ]
  },
  {
   "cell_type": "markdown",
   "metadata": {},
   "source": [
    "## Tworzenie zapytań do GT \n",
    "\n",
    "Najpierw musimy połączyć się z Googlem, aby móc pobierać dane z Google Trends. W tym celu potrzebna jest funkcja **TrendReq()**\n",
    "z biblioteki pytrends.request. \n",
    "\n",
    "Parametr **hl** określa język hosta. Parametr ten jest o tyle ważne, że ustawia strefę czasową. Jeżeli zatem chcemy, aby wyniki wyświetlały się względem polskiego czasu, ustawiamy ten paramter na 'PL'."
   ]
  },
  {
   "cell_type": "code",
   "execution_count": 2,
   "metadata": {},
   "outputs": [],
   "source": [
    "from pytrends.request import TrendReq\n",
    "pytrends = TrendReq(hl = 'PL')"
   ]
  },
  {
   "cell_type": "markdown",
   "metadata": {},
   "source": [
    "Zapytanie tworzymy przy pomocy **funkcji build_payload**, której parametry użycia są omówione poniżej:"
   ]
  },
  {
   "cell_type": "markdown",
   "metadata": {},
   "source": [
    "### kw_list\n",
    "Lista słów kluczy (keyword list) dla których chcemy otrzymać dane. Limit to 5 słów, podobnie jak w serwisie Google Trends. "
   ]
  },
  {
   "cell_type": "code",
   "execution_count": 2,
   "metadata": {},
   "outputs": [],
   "source": [
    "kw_list = [\"Koronawirus\", \"Wybory\"]"
   ]
  },
  {
   "cell_type": "markdown",
   "metadata": {},
   "source": [
    "Możemy też zamiast konkretnych haseł wyszukiwać tematy. Tematy w Google Tredns to zbiory słów dotyczące danego tematu. Przykładowo, jeżeli wybierzemy temat Londyn, zwrócone dane będą sumą wyszukiwań haseł związancyh z Londynem, jak na przykład \"capital of england\" albo słowa Londyn w różnych językach.\n",
    "\n",
    "Aby otrzymać dane dla tematu, musimy wprowadzić kod tematu zamiast hasła w parametrze kw_list. Kod ten możemy pobrać z URL po wprowadzeniu tematu ręcznie w serwisie Google Trends.\n",
    "\n",
    "W URL kod jest dostepny pod wartością q (*q=%2Fm%2F...*). Z kodu musimy usunąć prefix *%2Fm%2F* i zastąpić go */m/*. Przykładowo:\n",
    "1. Patrzymy na URL dla tematu \"Zaburzenia dperesyjne\": https://trends.google.com/trends/explore?date=today%205-y&geo=PL&q=%2Fm%2F02bft.\n",
    "2. Poberamy kod tematu: *%2Fm%2F02bft*\n",
    "3. Zamieniamy go na: */m/02bft*"
   ]
  },
  {
   "cell_type": "code",
   "execution_count": 1,
   "metadata": {},
   "outputs": [],
   "source": [
    "kw_list = [\"/m/02bft\"] # kod dla tematu \"Zaburzenia depresyjne\""
   ]
  },
  {
   "cell_type": "markdown",
   "metadata": {},
   "source": [
    "### cat\n",
    "Parametr ten określa kategorię, dla której pobieramy dane. Przykładowe kategorie do wyboru to: Sztuka, Zdrowie, Wiadomości, Sport. Domyślna kategoria to \"Wszystko\". \n",
    "\n",
    "Aby użyć tego parametru musimy podać wartość przypisaną do danej kategorii.  Możemy ją znaleźć manualnie wybierając kategorię z serwisu Google Trends. W URL pojawi się cat=x gdzie x to poszukiwana wartość kategorii, np.:\n",
    "\n",
    "https://www.google.com/trends/explore#q=pizza&cat=71 (kategoria 71, czyli \"Żywność i napoje\")."
   ]
  },
  {
   "cell_type": "code",
   "execution_count": 3,
   "metadata": {},
   "outputs": [],
   "source": [
    "cat = 16 # Kategoria: Wiadomości"
   ]
  },
  {
   "cell_type": "markdown",
   "metadata": {},
   "source": [
    "### geo\n",
    "Parametr określający dla jakiego obszaru pobieramy dane.\n",
    "\n",
    "Należy podać dwuliterowy skrót nazwy państwa (np.: Polska to 'PL'). Można też zawęzić obszar do konkretnego regionu/województwa/stanu, dodając dwuliterowy skrót regionu po myślniku (np.: Kujawsko-Pomorskie to 'PL-KP')\n",
    "\n",
    "Skrót ten można znaleźć, podobnie jak wartości kategorii, manualnie wybierając państwo/region w Google Trends i znajdując wartość w URL jako \"geo=x\", np.:\n",
    "\n",
    "https://trends.google.com/trends/explore?date=now%204-H&geo=PL-WP&q=a (skrót 'PL-WP', czyli województwo wielkopolskie)."
   ]
  },
  {
   "cell_type": "code",
   "execution_count": 4,
   "metadata": {},
   "outputs": [],
   "source": [
    "geo = 'PL'"
   ]
  },
  {
   "cell_type": "markdown",
   "metadata": {},
   "source": [
    "### timeframe\n",
    "Przedział czasu dla którego pozyskujemy dane. \n",
    "\n",
    "Domyślny format parametru dla \"Ostatni rok\" itp. to **'today y-x'** (dla godzin i dni **now** zamiast today!), gdzie:\n",
    "- x to skrót jednostki czasu (rok/miesiąc/dzień/godzina)\n",
    "- y to o ile tych jednostek wstecz chcemy pobrać dane (dostępne jednostki: 1,5 dla lat; 1,3 dla miesięcy; 1,7 dla dni; 1,4 dla godzin)\n",
    "\n",
    "Możemy podać konkretne daty w formacie **'YYYY-MM-DD YYYY-MM-DD'** lub **'YYYY-MM-DDTHH YYYY-MM-DDTHH'**, gdzie podana godzina powinna być czasem UTC.\n",
    "\n",
    "Dla pełnego zakresu (od 2004 do dziś) piszemy **\"all\"**.\n",
    "\n",
    "Przykłady:"
   ]
  },
  {
   "cell_type": "code",
   "execution_count": 5,
   "metadata": {},
   "outputs": [],
   "source": [
    "last_4_hours = \"now 4-H\"\n",
    "last_day = \"now 1-d\"\n",
    "last_3_months = \"today 3-m\"\n",
    "last_5_years = 'today 5-y'\n",
    "specific_date = \"2020-03-14 2020-03-25\"\n",
    "specific_date_with_hours = \"2020-04-06T01 2017-04-12T22\"\n",
    "full_timeframe = \"all\""
   ]
  },
  {
   "cell_type": "markdown",
   "metadata": {},
   "source": [
    "### gprop \n",
    "Określa dla której wyszukiwarki chcemy otrzymać dane. Podobnie jak w serwisie, dostępne opcje to: \n",
    "- **images** (Wyszukiwarka grafiki)\n",
    "- **news** (Wyszukiwarka wiadomości) \n",
    "- **youtube** (Wyszkiwarka w Youtube) \n",
    "- **froogle** (Zakupy Google)\n",
    "\n",
    "Domyślne ustawienie to \"Wyszukiwarka Google\".\n"
   ]
  },
  {
   "cell_type": "code",
   "execution_count": 6,
   "metadata": {},
   "outputs": [],
   "source": [
    "gprop = 'news'"
   ]
  },
  {
   "attachments": {
    "obraz.png": {
     "image/png": "[encoded data removed]"
    }
   },
   "cell_type": "markdown",
   "metadata": {},
   "source": [
    "Na koniec przedstawienie parametrów funckji na tle GUI serwisu Google Trends.\n",
    "![obraz.png](attachment:obraz.png)"
   ]
  },
  {
   "cell_type": "markdown",
   "metadata": {},
   "source": [
    "### build_payload\n",
    "Znając już wszystkie parametry tej funkcji, możemy ją wywołać:"
   ]
  },
  {
   "cell_type": "code",
   "execution_count": 7,
   "metadata": {
    "scrolled": true
   },
   "outputs": [],
   "source": [
    "pytrends.build_payload(kw_list, cat=cat, timeframe=last_5_years, geo=geo)"
   ]
  },
  {
   "cell_type": "markdown",
   "metadata": {},
   "source": [
    "Teraz możemy zacząć pobierać różne ramki danych utworzone na bazie naszego zapytania."
   ]
  },
  {
   "cell_type": "markdown",
   "metadata": {},
   "source": [
    "## Pobieranie danych"
   ]
  },
  {
   "cell_type": "markdown",
   "metadata": {},
   "source": [
    " ### interest_over_time()\n",
    "Funkcja zwraca ramkę danych przedstawiająca popularność danego wyszukiwania. W serwisie Google Trends dane te są przedstawione jako wykres \"Zainteresowanie w ujęciu czasowym\"."
   ]
  },
  {
   "cell_type": "code",
   "execution_count": 8,
   "metadata": {},
   "outputs": [
    {
     "data": {
      "text/html": [
       "<div>\n",
       "<style scoped>\n",
       "    .dataframe tbody tr th:only-of-type {\n",
       "        vertical-align: middle;\n",
       "    }\n",
       "\n",
       "    .dataframe tbody tr th {\n",
       "        vertical-align: top;\n",
       "    }\n",
       "\n",
       "    .dataframe thead th {\n",
       "        text-align: right;\n",
       "    }\n",
       "</style>\n",
       "<table border=\"1\" class=\"dataframe\">\n",
       "  <thead>\n",
       "    <tr style=\"text-align: right;\">\n",
       "      <th></th>\n",
       "      <th>Koronawirus</th>\n",
       "      <th>Wybory</th>\n",
       "      <th>isPartial</th>\n",
       "    </tr>\n",
       "    <tr>\n",
       "      <th>date</th>\n",
       "      <th></th>\n",
       "      <th></th>\n",
       "      <th></th>\n",
       "    </tr>\n",
       "  </thead>\n",
       "  <tbody>\n",
       "    <tr>\n",
       "      <th>2015-06-07</th>\n",
       "      <td>0</td>\n",
       "      <td>1</td>\n",
       "      <td>False</td>\n",
       "    </tr>\n",
       "    <tr>\n",
       "      <th>2015-06-14</th>\n",
       "      <td>0</td>\n",
       "      <td>1</td>\n",
       "      <td>False</td>\n",
       "    </tr>\n",
       "    <tr>\n",
       "      <th>2015-06-21</th>\n",
       "      <td>0</td>\n",
       "      <td>1</td>\n",
       "      <td>False</td>\n",
       "    </tr>\n",
       "    <tr>\n",
       "      <th>2015-06-28</th>\n",
       "      <td>0</td>\n",
       "      <td>0</td>\n",
       "      <td>False</td>\n",
       "    </tr>\n",
       "    <tr>\n",
       "      <th>2015-07-05</th>\n",
       "      <td>0</td>\n",
       "      <td>0</td>\n",
       "      <td>False</td>\n",
       "    </tr>\n",
       "    <tr>\n",
       "      <th>...</th>\n",
       "      <td>...</td>\n",
       "      <td>...</td>\n",
       "      <td>...</td>\n",
       "    </tr>\n",
       "    <tr>\n",
       "      <th>2020-05-03</th>\n",
       "      <td>7</td>\n",
       "      <td>7</td>\n",
       "      <td>False</td>\n",
       "    </tr>\n",
       "    <tr>\n",
       "      <th>2020-05-10</th>\n",
       "      <td>6</td>\n",
       "      <td>3</td>\n",
       "      <td>False</td>\n",
       "    </tr>\n",
       "    <tr>\n",
       "      <th>2020-05-17</th>\n",
       "      <td>4</td>\n",
       "      <td>2</td>\n",
       "      <td>False</td>\n",
       "    </tr>\n",
       "    <tr>\n",
       "      <th>2020-05-24</th>\n",
       "      <td>4</td>\n",
       "      <td>2</td>\n",
       "      <td>False</td>\n",
       "    </tr>\n",
       "    <tr>\n",
       "      <th>2020-05-31</th>\n",
       "      <td>4</td>\n",
       "      <td>2</td>\n",
       "      <td>True</td>\n",
       "    </tr>\n",
       "  </tbody>\n",
       "</table>\n",
       "<p>261 rows × 3 columns</p>\n",
       "</div>"
      ],
      "text/plain": [
       "            Koronawirus  Wybory isPartial\n",
       "date                                     \n",
       "2015-06-07            0       1     False\n",
       "2015-06-14            0       1     False\n",
       "2015-06-21            0       1     False\n",
       "2015-06-28            0       0     False\n",
       "2015-07-05            0       0     False\n",
       "...                 ...     ...       ...\n",
       "2020-05-03            7       7     False\n",
       "2020-05-10            6       3     False\n",
       "2020-05-17            4       2     False\n",
       "2020-05-24            4       2     False\n",
       "2020-05-31            4       2      True\n",
       "\n",
       "[261 rows x 3 columns]"
      ]
     },
     "execution_count": 8,
     "metadata": {},
     "output_type": "execute_result"
    }
   ],
   "source": [
    "pytrends.interest_over_time()"
   ]
  },
  {
   "attachments": {
    "obraz.png": {
     "image/png": "[encoded data removed]"
    }
   },
   "cell_type": "markdown",
   "metadata": {},
   "source": [
    "Google Trends czasami wykonuje przewidywanie dla ostatnie okresu czasu na podstawie niepełnych danych.\n",
    "Atrybut **isPartial** informuje czy wartość danego rekordu jest dla obliczona na podstawie niepełnych danych.\n",
    "![obraz.png](attachment:obraz.png)"
   ]
  },
  {
   "cell_type": "markdown",
   "metadata": {},
   "source": [
    "### get_historical_interest()\n",
    "Funkcja ta wysyła wiele zapytań do Google dla okresu 1 tygodnia. Nastepnie \"zlepia\" wyniki, dzięki czemu otrzymujemy dane są z dokładnością do godzin, niezależnie od wybranego przedziału czasu (Google Trends domyślnie podaje wyniki z dokładnością zależną od wybranego przedziału, zwykle nie więcej niż 250 rekordów).\n",
    "\n",
    "Funkcja ta wymaga tych samych parametrów co build_payload() - kw_list, cat, geo, gprop. Zakres czasu podajemy w inny sposób - mamy nowe parametry:\n",
    "- **year_start, month_start, day_start, hour_start**\n",
    "- **year_end, month_end, day_end, hour_end**\n",
    "\n",
    "Jeżeli Google ogranicza szybkość wysyłanych przez nas żądań, możemy użyć parametru **sleep**, który sztucznie opóźnia każde żądanie.\n",
    "\n",
    "Przykładowe wywołanie funckji dla okresu jednego miesiąca:"
   ]
  },
  {
   "cell_type": "code",
   "execution_count": 9,
   "metadata": {},
   "outputs": [
    {
     "name": "stdout",
     "output_type": "stream",
     "text": [
      "HTTPSConnectionPool(host='trends.google.com', port=443): Read timed out. (read timeout=5)\n",
      "HTTPSConnectionPool(host='trends.google.com', port=443): Read timed out. (read timeout=5)\n",
      "HTTPSConnectionPool(host='trends.google.com', port=443): Read timed out. (read timeout=5)\n"
     ]
    },
    {
     "data": {
      "text/html": [
       "<div>\n",
       "<style scoped>\n",
       "    .dataframe tbody tr th:only-of-type {\n",
       "        vertical-align: middle;\n",
       "    }\n",
       "\n",
       "    .dataframe tbody tr th {\n",
       "        vertical-align: top;\n",
       "    }\n",
       "\n",
       "    .dataframe thead th {\n",
       "        text-align: right;\n",
       "    }\n",
       "</style>\n",
       "<table border=\"1\" class=\"dataframe\">\n",
       "  <thead>\n",
       "    <tr style=\"text-align: right;\">\n",
       "      <th></th>\n",
       "      <th>Koronawirus</th>\n",
       "      <th>Wybory</th>\n",
       "      <th>isPartial</th>\n",
       "    </tr>\n",
       "    <tr>\n",
       "      <th>date</th>\n",
       "      <th></th>\n",
       "      <th></th>\n",
       "      <th></th>\n",
       "    </tr>\n",
       "  </thead>\n",
       "  <tbody>\n",
       "    <tr>\n",
       "      <th>2020-04-01 00:00:00</th>\n",
       "      <td>30</td>\n",
       "      <td>1</td>\n",
       "      <td>False</td>\n",
       "    </tr>\n",
       "    <tr>\n",
       "      <th>2020-04-01 01:00:00</th>\n",
       "      <td>32</td>\n",
       "      <td>1</td>\n",
       "      <td>False</td>\n",
       "    </tr>\n",
       "    <tr>\n",
       "      <th>2020-04-01 02:00:00</th>\n",
       "      <td>42</td>\n",
       "      <td>1</td>\n",
       "      <td>False</td>\n",
       "    </tr>\n",
       "    <tr>\n",
       "      <th>2020-04-01 03:00:00</th>\n",
       "      <td>52</td>\n",
       "      <td>1</td>\n",
       "      <td>False</td>\n",
       "    </tr>\n",
       "    <tr>\n",
       "      <th>2020-04-01 04:00:00</th>\n",
       "      <td>52</td>\n",
       "      <td>1</td>\n",
       "      <td>False</td>\n",
       "    </tr>\n",
       "    <tr>\n",
       "      <th>...</th>\n",
       "      <td>...</td>\n",
       "      <td>...</td>\n",
       "      <td>...</td>\n",
       "    </tr>\n",
       "    <tr>\n",
       "      <th>2020-04-30 20:00:00</th>\n",
       "      <td>73</td>\n",
       "      <td>5</td>\n",
       "      <td>False</td>\n",
       "    </tr>\n",
       "    <tr>\n",
       "      <th>2020-04-30 21:00:00</th>\n",
       "      <td>70</td>\n",
       "      <td>5</td>\n",
       "      <td>False</td>\n",
       "    </tr>\n",
       "    <tr>\n",
       "      <th>2020-04-30 22:00:00</th>\n",
       "      <td>63</td>\n",
       "      <td>5</td>\n",
       "      <td>False</td>\n",
       "    </tr>\n",
       "    <tr>\n",
       "      <th>2020-04-30 23:00:00</th>\n",
       "      <td>57</td>\n",
       "      <td>4</td>\n",
       "      <td>False</td>\n",
       "    </tr>\n",
       "    <tr>\n",
       "      <th>2020-05-01 00:00:00</th>\n",
       "      <td>53</td>\n",
       "      <td>4</td>\n",
       "      <td>False</td>\n",
       "    </tr>\n",
       "  </tbody>\n",
       "</table>\n",
       "<p>218 rows × 3 columns</p>\n",
       "</div>"
      ],
      "text/plain": [
       "                     Koronawirus  Wybory  isPartial\n",
       "date                                               \n",
       "2020-04-01 00:00:00           30       1      False\n",
       "2020-04-01 01:00:00           32       1      False\n",
       "2020-04-01 02:00:00           42       1      False\n",
       "2020-04-01 03:00:00           52       1      False\n",
       "2020-04-01 04:00:00           52       1      False\n",
       "...                          ...     ...        ...\n",
       "2020-04-30 20:00:00           73       5      False\n",
       "2020-04-30 21:00:00           70       5      False\n",
       "2020-04-30 22:00:00           63       5      False\n",
       "2020-04-30 23:00:00           57       4      False\n",
       "2020-05-01 00:00:00           53       4      False\n",
       "\n",
       "[218 rows x 3 columns]"
      ]
     },
     "execution_count": 9,
     "metadata": {},
     "output_type": "execute_result"
    }
   ],
   "source": [
    "pytrends.get_historical_interest(kw_list, year_start=2020, month_start=4, day_start=1, hour_start=0, year_end=2020, month_end=5, day_end=1, hour_end=0, cat=0, geo='PL', gprop='', sleep=0)"
   ]
  },
  {
   "cell_type": "markdown",
   "metadata": {},
   "source": [
    "### interest_by_region()\n",
    "Funkcja ta zbiera dane dla poszczególnych podregionów. \n",
    "\n",
    "Podobnie jak w serwisie Google Trends, możemy wybrać rodzaj podregionu dla którego chcemy uzyskać dane(parametr **resolution**): \n",
    "- 'CITY', czyli miasto\n",
    "- 'COUNTRY', czyli kraj\n",
    "- 'DMA', czyli obszar miejski\n",
    "- 'REGION', czyli stan/województwo\n",
    "\n",
    "Dla różnych krajów dostępne będą różne podregiony. Jeżeli nie podamy tego parametru, funkcja zwróci dane dla domyślnego podregionu (np.: dla Polski będą to województwa)\n",
    "\n",
    "Parametr **inc_low_vol** określa czy chcemy uwzględnić regiony z małą ilością danych.\n",
    "\n",
    "Parametr **inc_geo_code** określa czy chcemy w zwróconej ramce danych dodatkowy parametr będący kodem lokazlizacji. Jest to dobry sposób na zdobycie kodów konkretnych regionów, które są potrzebne jako parametr geo w poprzednich funkcjach."
   ]
  },
  {
   "cell_type": "code",
   "execution_count": 10,
   "metadata": {},
   "outputs": [
    {
     "data": {
      "text/html": [
       "<div>\n",
       "<style scoped>\n",
       "    .dataframe tbody tr th:only-of-type {\n",
       "        vertical-align: middle;\n",
       "    }\n",
       "\n",
       "    .dataframe tbody tr th {\n",
       "        vertical-align: top;\n",
       "    }\n",
       "\n",
       "    .dataframe thead th {\n",
       "        text-align: right;\n",
       "    }\n",
       "</style>\n",
       "<table border=\"1\" class=\"dataframe\">\n",
       "  <thead>\n",
       "    <tr style=\"text-align: right;\">\n",
       "      <th></th>\n",
       "      <th>geoCode</th>\n",
       "      <th>Koronawirus</th>\n",
       "      <th>Wybory</th>\n",
       "    </tr>\n",
       "    <tr>\n",
       "      <th>geoName</th>\n",
       "      <th></th>\n",
       "      <th></th>\n",
       "      <th></th>\n",
       "    </tr>\n",
       "  </thead>\n",
       "  <tbody>\n",
       "    <tr>\n",
       "      <th>Greater Poland Voivodeship</th>\n",
       "      <td>PL-WP</td>\n",
       "      <td>93</td>\n",
       "      <td>7</td>\n",
       "    </tr>\n",
       "    <tr>\n",
       "      <th>Kuyavian-Pomeranian Voivodeship</th>\n",
       "      <td>PL-KP</td>\n",
       "      <td>94</td>\n",
       "      <td>6</td>\n",
       "    </tr>\n",
       "    <tr>\n",
       "      <th>Lesser Poland Voivodeship</th>\n",
       "      <td>PL-MA</td>\n",
       "      <td>93</td>\n",
       "      <td>7</td>\n",
       "    </tr>\n",
       "    <tr>\n",
       "      <th>Lower Silesian Voivodeship</th>\n",
       "      <td>PL-DS</td>\n",
       "      <td>93</td>\n",
       "      <td>7</td>\n",
       "    </tr>\n",
       "    <tr>\n",
       "      <th>Lublin Voivodeship</th>\n",
       "      <td>PL-LU</td>\n",
       "      <td>93</td>\n",
       "      <td>7</td>\n",
       "    </tr>\n",
       "    <tr>\n",
       "      <th>Lubusz Voivodeship</th>\n",
       "      <td>PL-LB</td>\n",
       "      <td>94</td>\n",
       "      <td>6</td>\n",
       "    </tr>\n",
       "    <tr>\n",
       "      <th>Masovian Voivodeship</th>\n",
       "      <td>PL-MZ</td>\n",
       "      <td>91</td>\n",
       "      <td>9</td>\n",
       "    </tr>\n",
       "    <tr>\n",
       "      <th>Opole Voivodeship</th>\n",
       "      <td>PL-OP</td>\n",
       "      <td>95</td>\n",
       "      <td>5</td>\n",
       "    </tr>\n",
       "    <tr>\n",
       "      <th>Podkarpackie Voivodeship</th>\n",
       "      <td>PL-PK</td>\n",
       "      <td>94</td>\n",
       "      <td>6</td>\n",
       "    </tr>\n",
       "    <tr>\n",
       "      <th>Podlaskie Voivodeship</th>\n",
       "      <td>PL-PD</td>\n",
       "      <td>94</td>\n",
       "      <td>6</td>\n",
       "    </tr>\n",
       "    <tr>\n",
       "      <th>Pomeranian Voivodeship</th>\n",
       "      <td>PL-PM</td>\n",
       "      <td>93</td>\n",
       "      <td>7</td>\n",
       "    </tr>\n",
       "    <tr>\n",
       "      <th>Silesian Voivodeship</th>\n",
       "      <td>PL-SL</td>\n",
       "      <td>95</td>\n",
       "      <td>5</td>\n",
       "    </tr>\n",
       "    <tr>\n",
       "      <th>Swietokrzyskie</th>\n",
       "      <td>PL-SK</td>\n",
       "      <td>94</td>\n",
       "      <td>6</td>\n",
       "    </tr>\n",
       "    <tr>\n",
       "      <th>Warmian-Masurian Voivodeship</th>\n",
       "      <td>PL-WN</td>\n",
       "      <td>94</td>\n",
       "      <td>6</td>\n",
       "    </tr>\n",
       "    <tr>\n",
       "      <th>West Pomeranian Voivodeship</th>\n",
       "      <td>PL-ZP</td>\n",
       "      <td>94</td>\n",
       "      <td>6</td>\n",
       "    </tr>\n",
       "    <tr>\n",
       "      <th>Łódź Voivodeship</th>\n",
       "      <td>PL-LD</td>\n",
       "      <td>93</td>\n",
       "      <td>7</td>\n",
       "    </tr>\n",
       "  </tbody>\n",
       "</table>\n",
       "</div>"
      ],
      "text/plain": [
       "                                geoCode  Koronawirus  Wybory\n",
       "geoName                                                     \n",
       "Greater Poland Voivodeship        PL-WP           93       7\n",
       "Kuyavian-Pomeranian Voivodeship   PL-KP           94       6\n",
       "Lesser Poland Voivodeship         PL-MA           93       7\n",
       "Lower Silesian Voivodeship        PL-DS           93       7\n",
       "Lublin Voivodeship                PL-LU           93       7\n",
       "Lubusz Voivodeship                PL-LB           94       6\n",
       "Masovian Voivodeship              PL-MZ           91       9\n",
       "Opole Voivodeship                 PL-OP           95       5\n",
       "Podkarpackie Voivodeship          PL-PK           94       6\n",
       "Podlaskie Voivodeship             PL-PD           94       6\n",
       "Pomeranian Voivodeship            PL-PM           93       7\n",
       "Silesian Voivodeship              PL-SL           95       5\n",
       "Swietokrzyskie                    PL-SK           94       6\n",
       "Warmian-Masurian Voivodeship      PL-WN           94       6\n",
       "West Pomeranian Voivodeship       PL-ZP           94       6\n",
       "Łódź Voivodeship                  PL-LD           93       7"
      ]
     },
     "execution_count": 10,
     "metadata": {},
     "output_type": "execute_result"
    }
   ],
   "source": [
    "pytrends.interest_by_region(inc_low_vol=True, inc_geo_code=True)"
   ]
  },
  {
   "cell_type": "markdown",
   "metadata": {},
   "source": [
    "Pytrends oferuje również funkcje pozwalające pobrać sugestie Google Trends dotyczące zapytań, jednak nie będą one tutaj omawiane."
   ]
  },
  {
   "cell_type": "markdown",
   "metadata": {},
   "source": [
    "### trending_searches()\n",
    "Funkcja zwraca \"Dzienne trendy wyszukiwania\" z serwisu Google Trends , czyli listę zapytań które odnotowały znaczny wzrost ruchu w porównaniu do wszystkich wyszukiwań z ostatnich 24 godzin.\n",
    "\n",
    "Parametr **pn** określa państwo dla którego chcemy otrzymać dane. Musimy podać pełną nazwę państwa po angielsku, z małej litery."
   ]
  },
  {
   "cell_type": "code",
   "execution_count": 11,
   "metadata": {},
   "outputs": [
    {
     "data": {
      "text/html": [
       "<div>\n",
       "<style scoped>\n",
       "    .dataframe tbody tr th:only-of-type {\n",
       "        vertical-align: middle;\n",
       "    }\n",
       "\n",
       "    .dataframe tbody tr th {\n",
       "        vertical-align: top;\n",
       "    }\n",
       "\n",
       "    .dataframe thead th {\n",
       "        text-align: right;\n",
       "    }\n",
       "</style>\n",
       "<table border=\"1\" class=\"dataframe\">\n",
       "  <thead>\n",
       "    <tr style=\"text-align: right;\">\n",
       "      <th></th>\n",
       "      <th>0</th>\n",
       "    </tr>\n",
       "  </thead>\n",
       "  <tbody>\n",
       "    <tr>\n",
       "      <th>0</th>\n",
       "      <td>Ghislaine Maxwell</td>\n",
       "    </tr>\n",
       "    <tr>\n",
       "      <th>1</th>\n",
       "      <td>I can't breathe</td>\n",
       "    </tr>\n",
       "    <tr>\n",
       "      <th>2</th>\n",
       "      <td>Paweł Brożek</td>\n",
       "    </tr>\n",
       "    <tr>\n",
       "      <th>3</th>\n",
       "      <td>Agnieszka Bednarek</td>\n",
       "    </tr>\n",
       "    <tr>\n",
       "      <th>4</th>\n",
       "      <td>Burzec</td>\n",
       "    </tr>\n",
       "    <tr>\n",
       "      <th>5</th>\n",
       "      <td>Żłobek Słoneczko Bydgoszcz</td>\n",
       "    </tr>\n",
       "    <tr>\n",
       "      <th>6</th>\n",
       "      <td>Piotr Rocki</td>\n",
       "    </tr>\n",
       "    <tr>\n",
       "      <th>7</th>\n",
       "      <td>Valorant</td>\n",
       "    </tr>\n",
       "    <tr>\n",
       "      <th>8</th>\n",
       "      <td>Rita Malinkiewicz</td>\n",
       "    </tr>\n",
       "    <tr>\n",
       "      <th>9</th>\n",
       "      <td>Cast Away</td>\n",
       "    </tr>\n",
       "    <tr>\n",
       "      <th>10</th>\n",
       "      <td>Oczko wodne</td>\n",
       "    </tr>\n",
       "    <tr>\n",
       "      <th>11</th>\n",
       "      <td>Cole Sprouse</td>\n",
       "    </tr>\n",
       "    <tr>\n",
       "      <th>12</th>\n",
       "      <td>Tłumaczka</td>\n",
       "    </tr>\n",
       "    <tr>\n",
       "      <th>13</th>\n",
       "      <td>Black</td>\n",
       "    </tr>\n",
       "    <tr>\n",
       "      <th>14</th>\n",
       "      <td>Terlecki</td>\n",
       "    </tr>\n",
       "    <tr>\n",
       "      <th>15</th>\n",
       "      <td>Czarny wtorek</td>\n",
       "    </tr>\n",
       "    <tr>\n",
       "      <th>16</th>\n",
       "      <td>Venom</td>\n",
       "    </tr>\n",
       "    <tr>\n",
       "      <th>17</th>\n",
       "      <td>1 Liga</td>\n",
       "    </tr>\n",
       "    <tr>\n",
       "      <th>18</th>\n",
       "      <td>Blackout Tuesday co to</td>\n",
       "    </tr>\n",
       "    <tr>\n",
       "      <th>19</th>\n",
       "      <td>2 czerwca</td>\n",
       "    </tr>\n",
       "  </tbody>\n",
       "</table>\n",
       "</div>"
      ],
      "text/plain": [
       "                             0\n",
       "0            Ghislaine Maxwell\n",
       "1              I can't breathe\n",
       "2                 Paweł Brożek\n",
       "3           Agnieszka Bednarek\n",
       "4                       Burzec\n",
       "5   Żłobek Słoneczko Bydgoszcz\n",
       "6                  Piotr Rocki\n",
       "7                     Valorant\n",
       "8            Rita Malinkiewicz\n",
       "9                    Cast Away\n",
       "10                 Oczko wodne\n",
       "11                Cole Sprouse\n",
       "12                   Tłumaczka\n",
       "13                       Black\n",
       "14                    Terlecki\n",
       "15               Czarny wtorek\n",
       "16                       Venom\n",
       "17                      1 Liga\n",
       "18      Blackout Tuesday co to\n",
       "19                   2 czerwca"
      ]
     },
     "execution_count": 11,
     "metadata": {},
     "output_type": "execute_result"
    }
   ],
   "source": [
    "pytrends.trending_searches(pn='poland') "
   ]
  },
  {
   "cell_type": "markdown",
   "metadata": {},
   "source": [
    "### top_charts()\n",
    "Funkcja zwraca 10 najpopularniejszych wyszukiwań z danego roku dla danego państwa. dane pobrane są z karty \"Rok w wyszukiwarce\" serwisu Google Trends.\n",
    "\n",
    "Parametr **date** to rok i podajemy go jako integer (np.: date = 2016). Najwcześniejszy dostępny rok to 2001. Warto jednak zaznaczyć, że wiele lat jest niedostępnych dla poszczególnych państw. Przykładowo, dla Polski dostępne są tylko lata 2008-2019 bez roku 2010.\n",
    "\n",
    "Parametr **geo** przyjmuje dwuliterowy kod państwa. Jeżeli chcemy pobrac dane dla całego świata używamy  geo=**'GLOBAL'**."
   ]
  },
  {
   "cell_type": "code",
   "execution_count": 12,
   "metadata": {},
   "outputs": [
    {
     "data": {
      "text/html": [
       "<div>\n",
       "<style scoped>\n",
       "    .dataframe tbody tr th:only-of-type {\n",
       "        vertical-align: middle;\n",
       "    }\n",
       "\n",
       "    .dataframe tbody tr th {\n",
       "        vertical-align: top;\n",
       "    }\n",
       "\n",
       "    .dataframe thead th {\n",
       "        text-align: right;\n",
       "    }\n",
       "</style>\n",
       "<table border=\"1\" class=\"dataframe\">\n",
       "  <thead>\n",
       "    <tr style=\"text-align: right;\">\n",
       "      <th></th>\n",
       "      <th>title</th>\n",
       "      <th>exploreQuery</th>\n",
       "    </tr>\n",
       "  </thead>\n",
       "  <tbody>\n",
       "    <tr>\n",
       "      <th>0</th>\n",
       "      <td>Strajk nauczycieli</td>\n",
       "      <td></td>\n",
       "    </tr>\n",
       "    <tr>\n",
       "      <th>1</th>\n",
       "      <td>Piotr Woźniak-Starak</td>\n",
       "      <td></td>\n",
       "    </tr>\n",
       "    <tr>\n",
       "      <th>2</th>\n",
       "      <td>Paweł Adamowicz</td>\n",
       "      <td></td>\n",
       "    </tr>\n",
       "    <tr>\n",
       "      <th>3</th>\n",
       "      <td>Wyniki wyborów UE</td>\n",
       "      <td></td>\n",
       "    </tr>\n",
       "    <tr>\n",
       "      <th>4</th>\n",
       "      <td>Olga Tokarczuk</td>\n",
       "      <td></td>\n",
       "    </tr>\n",
       "    <tr>\n",
       "      <th>5</th>\n",
       "      <td>Zniewolona</td>\n",
       "      <td></td>\n",
       "    </tr>\n",
       "    <tr>\n",
       "      <th>6</th>\n",
       "      <td>Wyniki wyborów 2019</td>\n",
       "      <td></td>\n",
       "    </tr>\n",
       "    <tr>\n",
       "      <th>7</th>\n",
       "      <td>Big Brother</td>\n",
       "      <td></td>\n",
       "    </tr>\n",
       "    <tr>\n",
       "      <th>8</th>\n",
       "      <td>Katedra Notre Dame</td>\n",
       "      <td></td>\n",
       "    </tr>\n",
       "    <tr>\n",
       "      <th>9</th>\n",
       "      <td>Tylko nie mów nikomu</td>\n",
       "      <td></td>\n",
       "    </tr>\n",
       "  </tbody>\n",
       "</table>\n",
       "</div>"
      ],
      "text/plain": [
       "                  title exploreQuery\n",
       "0    Strajk nauczycieli             \n",
       "1  Piotr Woźniak-Starak             \n",
       "2       Paweł Adamowicz             \n",
       "3     Wyniki wyborów UE             \n",
       "4        Olga Tokarczuk             \n",
       "5            Zniewolona             \n",
       "6   Wyniki wyborów 2019             \n",
       "7           Big Brother             \n",
       "8    Katedra Notre Dame             \n",
       "9  Tylko nie mów nikomu             "
      ]
     },
     "execution_count": 12,
     "metadata": {},
     "output_type": "execute_result"
    }
   ],
   "source": [
    "date = 2019\n",
    "pytrends.top_charts(date, geo='PL')"
   ]
  },
  {
   "cell_type": "markdown",
   "metadata": {},
   "source": [
    "## Wnioski\n",
    "API **pytrends** pozwala na korzystanie z Google Trends w niemalże pełnym zakresie. Tworzenie zapytań jest stosunkowo proste. pytrends oferuje również przydatne dodatkowe funkcjonalności, niedostępne w serwisie - opcję nieuwzględniania niepełnych danych lub pobranie danych z próbkowaniem co godzinę, niezależnie od zakresu czasu. \n",
    "\n",
    "Niestety pytrends posiada też wiele wad. Niektóre parametry wymagają ręcznego sprawdzenia w serwsie, np.: kod regionu lub wartość przypisana kategorii. Format parametrów nie jest jednolity dla całego API, np.: parametr geo przyjmuje kod regionu, zaś pn pełną nazwę państwa. Kilka funkcjonalności API opisanych w dokumentacji w praktyce nie działa, np.: funkcja top_charts() zwraca błąd przy wyszukiwaniu dla miesięcy. \n",
    "\n",
    "Podsumowując, pytrends ma swoje wady, aczkolwiek jest najlepszym dostępnym narzędziem do pobierania danych z Google Trends w celu ich analizy."
   ]
  }
 ],
 "metadata": {
  "kernelspec": {
   "display_name": "Python 3",
   "language": "python",
   "name": "python3"
  },
  "language_info": {
   "codemirror_mode": {
    "name": "ipython",
    "version": 3
   },
   "file_extension": ".py",
   "mimetype": "text/x-python",
   "name": "python",
   "nbconvert_exporter": "python",
   "pygments_lexer": "ipython3",
   "version": "3.7.6"
  }
 },
 "nbformat": 4,
 "nbformat_minor": 4
}
